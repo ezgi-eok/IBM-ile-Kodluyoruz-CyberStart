{
 "cells": [
  {
   "cell_type": "code",
   "execution_count": 1,
   "id": "aeed9067-8fbd-4e64-97b7-f01b615fc774",
   "metadata": {},
   "outputs": [
    {
     "name": "stdout",
     "output_type": "stream",
     "text": [
      "Minimum mesafe: 2.23606797749979\n"
     ]
    }
   ],
   "source": [
    "import math\n",
    "\n",
    "# Noktaların Tanımlanması\n",
    "points = [(1, 2), (4, 6), (7, 8), (3, 1)]\n",
    "\n",
    "# Öklid Mesafesi Fonksiyonu\n",
    "def euclideanDistance(point1, point2):\n",
    "    x1, y1 = point1\n",
    "    x2, y2 = point2\n",
    "    return math.sqrt((x2 - x1) ** 2 + (y2 - y1) ** 2)\n",
    "\n",
    "# Mesafelerin Hesaplanması\n",
    "distances = []\n",
    "for i in range(len(points)):\n",
    "    for j in range(i + 1, len(points)):\n",
    "        distance = euclideanDistance(points[i], points[j])\n",
    "        distances.append(distance)\n",
    "\n",
    "# Minimum Mesafenin Bulunması\n",
    "min_distance = min(distances)\n",
    "print(f\"Minimum mesafe: {min_distance}\")\n",
    "\n"
   ]
  },
  {
   "cell_type": "code",
   "execution_count": null,
   "id": "56fadd8f-0b57-4e4a-8146-bef0188601b9",
   "metadata": {},
   "outputs": [],
   "source": []
  }
 ],
 "metadata": {
  "kernelspec": {
   "display_name": "Python 3 (ipykernel)",
   "language": "python",
   "name": "python3"
  },
  "language_info": {
   "codemirror_mode": {
    "name": "ipython",
    "version": 3
   },
   "file_extension": ".py",
   "mimetype": "text/x-python",
   "name": "python",
   "nbconvert_exporter": "python",
   "pygments_lexer": "ipython3",
   "version": "3.11.7"
  }
 },
 "nbformat": 4,
 "nbformat_minor": 5
}
